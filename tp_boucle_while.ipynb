{
 "cells": [
  {
   "cell_type": "markdown",
   "metadata": {},
   "source": [
    "# Révisions sur la boucle non bornée *while*\n",
    "**Remarque préliminaire**\n",
    "\n",
    "Il est préférable avant d'aborder ce travail, de traiter le TP sur les booléens accessible au lien suivant : [le lien](https://hub.gke2.mybinder.org/user/lucponsonnet-tp_booleen-zu3rp77a/tree).\n",
    "\n",
    "## 1- La boucle *while*\n",
    "Exécuter le script suivant :"
   ]
  },
  {
   "cell_type": "code",
   "execution_count": null,
   "metadata": {},
   "outputs": [],
   "source": [
    "i=0\n",
    "while i<5:\n",
    "    print(i)\n",
    "    i=i+1\n",
    "print(\"Fini !\")"
   ]
  },
  {
   "cell_type": "markdown",
   "metadata": {},
   "source": [
    "* Les lignes 3 et 4 sont **indentées**, elles appartiennent au corps da la boucle *while*. La ligne 5 qui n'est plus indentée marque la sortie de la boucle *while*.\n",
    "* Les lignes 3 et 4 sont répétées tant que la condition booléenne  $i<5$ a pour valeur *True*.\n",
    "* La condition booléenne $i<5$ devient *False* lorsque $i\\ge5$. Donc les lignes 3 et 4 ne sont plus exécutées dès que $i$ prend la valeur 5.\n",
    "* La ligne 4 permet d'**incrémenter** $i$ c'est-à-dire d'ajouter 1 à $i$ à chaque fois que le cors de la boucle (composée des lignes 3 et 4) *while* est répétée.\n",
    "* Voici un tableau de valeurs qui explique le contenu des variables $i$ de type *int* et $i<10$ de type *bool*. La dernière colonne intitulée Sortie, contient ce qui est affiché à l'écran grâce au *print()*.\n",
    "\n",
    "![image1](image1.png)\n",
    "\n",
    "## 2- Exercices\n",
    "\n",
    "<span style='color:blue'>**Exercice 1**</span> :\n",
    "\n",
    "Ecrire dans chacune des *cellules Code* ci-dessous, comment on peut obtenir les affichages suivants à l'aide d'une boucle *while* :\n",
    "\n",
    "![image2](image2.png)\n"
   ]
  },
  {
   "cell_type": "code",
   "execution_count": null,
   "metadata": {},
   "outputs": [],
   "source": []
  },
  {
   "cell_type": "code",
   "execution_count": null,
   "metadata": {},
   "outputs": [],
   "source": []
  },
  {
   "cell_type": "code",
   "execution_count": null,
   "metadata": {},
   "outputs": [],
   "source": []
  },
  {
   "cell_type": "markdown",
   "metadata": {},
   "source": [
    "<span style='color:blue'>**Exercice 2**</span> :\n",
    "Compléter le script suivant pour qu'il renvoie la valeur de $2^{10}$.\n"
   ]
  },
  {
   "cell_type": "code",
   "execution_count": null,
   "metadata": {},
   "outputs": [],
   "source": [
    "def puiss(n):\n",
    "    i=1\n",
    "    P=1\n",
    "    while i<=n:\n",
    "        ...\n",
    "        ...\n",
    "    return P\n",
    "\n",
    "print(puiss(10))"
   ]
  },
  {
   "cell_type": "code",
   "execution_count": null,
   "metadata": {},
   "outputs": [],
   "source": []
  },
  {
   "cell_type": "markdown",
   "metadata": {},
   "source": [
    "<span style='color:blue'>**Exercice 3**</span> :\n",
    "On considère la suite $(u_n)$ définie sur $\\mathbb{N}$ par $u_{n+1}=4\\times u_n$ et $u_0=1$.\n",
    "\n",
    "* La suite $(u_n)$ est une suite géométrique de premier terme $u_0=1>0$ et de raison $q=4>0$ donc elle est strictement croissante. Exécuter le script suivant :"
   ]
  },
  {
   "cell_type": "code",
   "execution_count": 1,
   "metadata": {},
   "outputs": [
    {
     "name": "stdout",
     "output_type": "stream",
     "text": [
      "4\n",
      "16\n",
      "64\n",
      "256\n",
      "1024\n",
      "4096\n",
      "16384\n",
      "65536\n",
      "262144\n",
      "1048576\n",
      "4194304\n",
      "None\n"
     ]
    }
   ],
   "source": [
    "def suite(N):\n",
    "    U=1\n",
    "    n=0\n",
    "    while n<=N:\n",
    "        U=4*U\n",
    "        print(U)\n",
    "        n=n+1\n",
    "\n",
    "print(suite(10))"
   ]
  },
  {
   "cell_type": "markdown",
   "metadata": {},
   "source": [
    "On remarque qu'il semble que $\\lim\\limits_{n \\to +\\infty}(u_n)=+\\infty$.\n",
    "\n",
    "Il est à noter que comme il n'y a pas de *return* dans le corps de *suite(N)*, le script renvoie *None*. "
   ]
  },
  {
   "cell_type": "markdown",
   "metadata": {},
   "source": [
    "Modifier le script suivant pour qu'il retourne le premier rang *n* de $u_n$ à partir duquel $u_n>10000$."
   ]
  },
  {
   "cell_type": "code",
   "execution_count": null,
   "metadata": {},
   "outputs": [],
   "source": [
    "def seuil():\n",
    "\n",
    "    \n",
    "print(seuil())"
   ]
  },
  {
   "cell_type": "markdown",
   "metadata": {},
   "source": [
    "<span style='color:green'>**Remarque**</span> :\n",
    "\n",
    "* La boucle *while* est qualifiée de **non bornée** car comme le montre le script précédent, on ne sait pas à l'avance combien de fois on devra \"boucler\" pour obtenir le résultat.\n",
    "* Une boucle *for* peut être remplacée par une boucle *while*, le contraire n'est pas toujours possible.\n",
    "* Il est préférable d'utiliser les boucles bornées ou non bornées de manière adéquate. Mais cela dépend beaucoup des habitudes de programmation de chacun."
   ]
  }
 ],
 "metadata": {
  "kernelspec": {
   "display_name": "Python 3",
   "language": "python",
   "name": "python3"
  },
  "language_info": {
   "codemirror_mode": {
    "name": "ipython",
    "version": 3
   },
   "file_extension": ".py",
   "mimetype": "text/x-python",
   "name": "python",
   "nbconvert_exporter": "python",
   "pygments_lexer": "ipython3",
   "version": "3.8.5"
  }
 },
 "nbformat": 4,
 "nbformat_minor": 4
}
